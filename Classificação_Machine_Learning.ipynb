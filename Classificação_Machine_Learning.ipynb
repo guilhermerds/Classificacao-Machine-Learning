{
  "nbformat": 4,
  "nbformat_minor": 0,
  "metadata": {
    "colab": {
      "name": "Classificação - Machine Learning",
      "provenance": [],
      "collapsed_sections": [],
      "authorship_tag": "ABX9TyPPe96+Kep66RsBH5uOu5dS",
      "include_colab_link": true
    },
    "kernelspec": {
      "name": "python3",
      "display_name": "Python 3"
    },
    "language_info": {
      "name": "python"
    }
  },
  "cells": [
    {
      "cell_type": "markdown",
      "metadata": {
        "id": "view-in-github",
        "colab_type": "text"
      },
      "source": [
        "<a href=\"https://colab.research.google.com/github/guilhermerds/Classificacao-Machine-Learning/blob/main/Classifica%C3%A7%C3%A3o_Machine_Learning.ipynb\" target=\"_parent\"><img src=\"https://colab.research.google.com/assets/colab-badge.svg\" alt=\"Open In Colab\"/></a>"
      ]
    },
    {
      "cell_type": "markdown",
      "metadata": {
        "id": "y8w7rLp2s24v"
      },
      "source": [
        "#Pré-processamento dos dados"
      ]
    },
    {
      "cell_type": "code",
      "metadata": {
        "id": "kFtZB9kVs7UN"
      },
      "source": [
        "import pandas"
      ],
      "execution_count": null,
      "outputs": []
    },
    {
      "cell_type": "code",
      "metadata": {
        "id": "WsHp1nb-xNMs"
      },
      "source": [
        ""
      ],
      "execution_count": null,
      "outputs": []
    }
  ]
}